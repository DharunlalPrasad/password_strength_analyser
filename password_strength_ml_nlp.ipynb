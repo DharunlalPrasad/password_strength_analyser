{
  "metadata": {
    "kernelspec": {
      "display_name": "Python 3",
      "language": "python",
      "name": "python3"
    },
    "language_info": {
      "codemirror_mode": {
        "name": "ipython",
        "version": 3
      },
      "file_extension": ".py",
      "mimetype": "text/x-python",
      "name": "python",
      "nbconvert_exporter": "python",
      "pygments_lexer": "ipython3",
      "version": "3.6.7"
    },
    "colab": {
      "provenance": []
    }
  },
  "nbformat_minor": 0,
  "nbformat": 4,
  "cells": [
    {
      "cell_type": "markdown",
      "source": [
        "# ME 781 Statistical machine learning and data mining\n",
        "\n",
        "Name: S Dharunlal Prasad\n",
        "\n",
        "Roll no: 200010070"
      ],
      "metadata": {
        "id": "b4d_ujyAFmpW"
      }
    },
    {
      "cell_type": "markdown",
      "source": [
        "## Check Password Strength Using ML algorithms"
      ],
      "metadata": {
        "id": "dLKa70W7WSAr"
      }
    },
    {
      "cell_type": "code",
      "source": [
        "import pandas as pd\n",
        "import numpy as np\n",
        "import seaborn as sns"
      ],
      "metadata": {
        "trusted": true,
        "id": "eYDY2QiRWSA7"
      },
      "execution_count": null,
      "outputs": []
    },
    {
      "cell_type": "code",
      "source": [
        "data = pd.read_csv(\"/content/data.csv\",',',error_bad_lines=False)"
      ],
      "metadata": {
        "trusted": true,
        "colab": {
          "base_uri": "https://localhost:8080/"
        },
        "id": "YIqa2-V_WSBB",
        "outputId": "3142baec-9431-4ac3-e551-32498318810a"
      },
      "execution_count": null,
      "outputs": [
        {
          "output_type": "stream",
          "name": "stderr",
          "text": [
            "<ipython-input-2-395c3cbb03ec>:1: FutureWarning: In a future version of pandas all arguments of read_csv except for the argument 'filepath_or_buffer' will be keyword-only.\n",
            "  data = pd.read_csv(\"/content/data.csv\",',',error_bad_lines=False)\n",
            "<ipython-input-2-395c3cbb03ec>:1: FutureWarning: The error_bad_lines argument has been deprecated and will be removed in a future version. Use on_bad_lines in the future.\n",
            "\n",
            "\n",
            "  data = pd.read_csv(\"/content/data.csv\",',',error_bad_lines=False)\n",
            "Skipping line 2810: expected 2 fields, saw 5\n",
            "Skipping line 4641: expected 2 fields, saw 5\n",
            "Skipping line 7171: expected 2 fields, saw 5\n",
            "Skipping line 11220: expected 2 fields, saw 5\n",
            "Skipping line 13809: expected 2 fields, saw 5\n",
            "Skipping line 14132: expected 2 fields, saw 5\n",
            "Skipping line 14293: expected 2 fields, saw 5\n",
            "Skipping line 14865: expected 2 fields, saw 5\n",
            "Skipping line 17419: expected 2 fields, saw 5\n",
            "Skipping line 22801: expected 2 fields, saw 5\n",
            "Skipping line 25001: expected 2 fields, saw 5\n",
            "Skipping line 26603: expected 2 fields, saw 5\n",
            "Skipping line 26742: expected 2 fields, saw 5\n",
            "Skipping line 29702: expected 2 fields, saw 5\n",
            "Skipping line 32767: expected 2 fields, saw 5\n",
            "Skipping line 32878: expected 2 fields, saw 5\n",
            "Skipping line 35643: expected 2 fields, saw 5\n",
            "Skipping line 36550: expected 2 fields, saw 5\n",
            "Skipping line 38732: expected 2 fields, saw 5\n",
            "Skipping line 40567: expected 2 fields, saw 5\n",
            "Skipping line 40576: expected 2 fields, saw 5\n",
            "Skipping line 41864: expected 2 fields, saw 5\n",
            "Skipping line 46861: expected 2 fields, saw 5\n",
            "Skipping line 47939: expected 2 fields, saw 5\n",
            "Skipping line 48628: expected 2 fields, saw 5\n",
            "Skipping line 48908: expected 2 fields, saw 5\n",
            "Skipping line 57582: expected 2 fields, saw 5\n",
            "Skipping line 58782: expected 2 fields, saw 5\n",
            "Skipping line 58984: expected 2 fields, saw 5\n",
            "Skipping line 61518: expected 2 fields, saw 5\n",
            "Skipping line 63451: expected 2 fields, saw 5\n",
            "Skipping line 68141: expected 2 fields, saw 5\n",
            "Skipping line 72083: expected 2 fields, saw 5\n",
            "Skipping line 74027: expected 2 fields, saw 5\n",
            "Skipping line 77811: expected 2 fields, saw 5\n",
            "Skipping line 83958: expected 2 fields, saw 5\n",
            "Skipping line 85295: expected 2 fields, saw 5\n",
            "Skipping line 88665: expected 2 fields, saw 5\n",
            "Skipping line 89198: expected 2 fields, saw 5\n",
            "Skipping line 92499: expected 2 fields, saw 5\n",
            "Skipping line 92751: expected 2 fields, saw 5\n",
            "Skipping line 93689: expected 2 fields, saw 5\n",
            "Skipping line 94776: expected 2 fields, saw 5\n",
            "Skipping line 97334: expected 2 fields, saw 5\n",
            "Skipping line 102316: expected 2 fields, saw 5\n",
            "Skipping line 103421: expected 2 fields, saw 5\n",
            "Skipping line 106872: expected 2 fields, saw 5\n",
            "Skipping line 109363: expected 2 fields, saw 5\n",
            "Skipping line 110117: expected 2 fields, saw 5\n",
            "Skipping line 110465: expected 2 fields, saw 5\n",
            "Skipping line 113843: expected 2 fields, saw 5\n",
            "Skipping line 115634: expected 2 fields, saw 5\n",
            "Skipping line 121518: expected 2 fields, saw 5\n",
            "Skipping line 123692: expected 2 fields, saw 5\n",
            "Skipping line 124708: expected 2 fields, saw 5\n",
            "Skipping line 129608: expected 2 fields, saw 5\n",
            "Skipping line 133176: expected 2 fields, saw 5\n",
            "Skipping line 135532: expected 2 fields, saw 5\n",
            "Skipping line 138042: expected 2 fields, saw 5\n",
            "Skipping line 139485: expected 2 fields, saw 5\n",
            "Skipping line 140401: expected 2 fields, saw 5\n",
            "Skipping line 144093: expected 2 fields, saw 5\n",
            "Skipping line 149850: expected 2 fields, saw 5\n",
            "Skipping line 151831: expected 2 fields, saw 5\n",
            "Skipping line 158014: expected 2 fields, saw 5\n",
            "Skipping line 162047: expected 2 fields, saw 5\n",
            "Skipping line 164515: expected 2 fields, saw 5\n",
            "Skipping line 170313: expected 2 fields, saw 5\n",
            "Skipping line 171325: expected 2 fields, saw 5\n",
            "Skipping line 171424: expected 2 fields, saw 5\n",
            "Skipping line 175920: expected 2 fields, saw 5\n",
            "Skipping line 176210: expected 2 fields, saw 5\n",
            "Skipping line 183603: expected 2 fields, saw 5\n",
            "Skipping line 190264: expected 2 fields, saw 5\n",
            "Skipping line 191683: expected 2 fields, saw 5\n",
            "Skipping line 191988: expected 2 fields, saw 5\n",
            "Skipping line 195450: expected 2 fields, saw 5\n",
            "Skipping line 195754: expected 2 fields, saw 5\n",
            "Skipping line 197124: expected 2 fields, saw 5\n",
            "Skipping line 199263: expected 2 fields, saw 5\n",
            "Skipping line 202603: expected 2 fields, saw 5\n",
            "Skipping line 209960: expected 2 fields, saw 5\n",
            "Skipping line 213218: expected 2 fields, saw 5\n",
            "Skipping line 217060: expected 2 fields, saw 5\n",
            "Skipping line 220121: expected 2 fields, saw 5\n",
            "Skipping line 223518: expected 2 fields, saw 5\n",
            "Skipping line 226293: expected 2 fields, saw 5\n",
            "Skipping line 227035: expected 2 fields, saw 7\n",
            "Skipping line 227341: expected 2 fields, saw 5\n",
            "Skipping line 227808: expected 2 fields, saw 5\n",
            "Skipping line 228516: expected 2 fields, saw 5\n",
            "Skipping line 228733: expected 2 fields, saw 5\n",
            "Skipping line 232043: expected 2 fields, saw 5\n",
            "Skipping line 232426: expected 2 fields, saw 5\n",
            "Skipping line 234490: expected 2 fields, saw 5\n",
            "Skipping line 239626: expected 2 fields, saw 5\n",
            "Skipping line 240461: expected 2 fields, saw 5\n",
            "Skipping line 244518: expected 2 fields, saw 5\n",
            "Skipping line 245395: expected 2 fields, saw 5\n",
            "Skipping line 246168: expected 2 fields, saw 5\n",
            "Skipping line 246655: expected 2 fields, saw 5\n",
            "Skipping line 246752: expected 2 fields, saw 5\n",
            "Skipping line 247189: expected 2 fields, saw 5\n",
            "Skipping line 250276: expected 2 fields, saw 5\n",
            "Skipping line 255327: expected 2 fields, saw 5\n",
            "Skipping line 257094: expected 2 fields, saw 5\n",
            "\n",
            "Skipping line 264626: expected 2 fields, saw 5\n",
            "Skipping line 265028: expected 2 fields, saw 5\n",
            "Skipping line 269150: expected 2 fields, saw 5\n",
            "Skipping line 271360: expected 2 fields, saw 5\n",
            "Skipping line 273975: expected 2 fields, saw 5\n",
            "Skipping line 274742: expected 2 fields, saw 5\n",
            "Skipping line 276227: expected 2 fields, saw 5\n",
            "Skipping line 279807: expected 2 fields, saw 5\n",
            "Skipping line 283425: expected 2 fields, saw 5\n",
            "Skipping line 287468: expected 2 fields, saw 5\n",
            "Skipping line 292995: expected 2 fields, saw 5\n",
            "Skipping line 293496: expected 2 fields, saw 5\n",
            "Skipping line 293735: expected 2 fields, saw 5\n",
            "Skipping line 295060: expected 2 fields, saw 5\n",
            "Skipping line 296643: expected 2 fields, saw 5\n",
            "Skipping line 296848: expected 2 fields, saw 5\n",
            "Skipping line 308926: expected 2 fields, saw 5\n",
            "Skipping line 310360: expected 2 fields, saw 5\n",
            "Skipping line 317004: expected 2 fields, saw 5\n",
            "Skipping line 318207: expected 2 fields, saw 5\n",
            "Skipping line 331783: expected 2 fields, saw 5\n",
            "Skipping line 333864: expected 2 fields, saw 5\n",
            "Skipping line 335958: expected 2 fields, saw 5\n",
            "Skipping line 336290: expected 2 fields, saw 5\n",
            "Skipping line 343526: expected 2 fields, saw 5\n",
            "Skipping line 343857: expected 2 fields, saw 5\n",
            "Skipping line 344059: expected 2 fields, saw 5\n",
            "Skipping line 348691: expected 2 fields, saw 5\n",
            "Skipping line 353446: expected 2 fields, saw 5\n",
            "Skipping line 357073: expected 2 fields, saw 5\n",
            "Skipping line 359753: expected 2 fields, saw 5\n",
            "Skipping line 359974: expected 2 fields, saw 5\n",
            "Skipping line 366534: expected 2 fields, saw 5\n",
            "Skipping line 369514: expected 2 fields, saw 5\n",
            "Skipping line 377759: expected 2 fields, saw 5\n",
            "Skipping line 379327: expected 2 fields, saw 5\n",
            "Skipping line 380769: expected 2 fields, saw 5\n",
            "Skipping line 381073: expected 2 fields, saw 5\n",
            "Skipping line 381489: expected 2 fields, saw 5\n",
            "Skipping line 386304: expected 2 fields, saw 5\n",
            "Skipping line 387635: expected 2 fields, saw 5\n",
            "Skipping line 389613: expected 2 fields, saw 5\n",
            "Skipping line 392604: expected 2 fields, saw 5\n",
            "Skipping line 393184: expected 2 fields, saw 5\n",
            "Skipping line 395530: expected 2 fields, saw 5\n",
            "Skipping line 396939: expected 2 fields, saw 5\n",
            "Skipping line 397385: expected 2 fields, saw 5\n",
            "Skipping line 397509: expected 2 fields, saw 5\n",
            "Skipping line 402902: expected 2 fields, saw 5\n",
            "Skipping line 405187: expected 2 fields, saw 5\n",
            "Skipping line 408412: expected 2 fields, saw 5\n",
            "Skipping line 419423: expected 2 fields, saw 5\n",
            "Skipping line 420962: expected 2 fields, saw 5\n",
            "Skipping line 425965: expected 2 fields, saw 5\n",
            "Skipping line 427496: expected 2 fields, saw 5\n",
            "Skipping line 438881: expected 2 fields, saw 5\n",
            "Skipping line 439776: expected 2 fields, saw 5\n",
            "Skipping line 440345: expected 2 fields, saw 5\n",
            "Skipping line 445507: expected 2 fields, saw 5\n",
            "Skipping line 445548: expected 2 fields, saw 5\n",
            "Skipping line 447184: expected 2 fields, saw 5\n",
            "Skipping line 448603: expected 2 fields, saw 5\n",
            "Skipping line 451732: expected 2 fields, saw 5\n",
            "Skipping line 458249: expected 2 fields, saw 5\n",
            "Skipping line 460274: expected 2 fields, saw 5\n",
            "Skipping line 467630: expected 2 fields, saw 5\n",
            "Skipping line 473961: expected 2 fields, saw 5\n",
            "Skipping line 476281: expected 2 fields, saw 5\n",
            "Skipping line 478010: expected 2 fields, saw 5\n",
            "Skipping line 478322: expected 2 fields, saw 5\n",
            "Skipping line 479999: expected 2 fields, saw 5\n",
            "Skipping line 480898: expected 2 fields, saw 5\n",
            "Skipping line 481688: expected 2 fields, saw 5\n",
            "Skipping line 485193: expected 2 fields, saw 5\n",
            "Skipping line 485519: expected 2 fields, saw 5\n",
            "Skipping line 486000: expected 2 fields, saw 5\n",
            "Skipping line 489063: expected 2 fields, saw 5\n",
            "Skipping line 494525: expected 2 fields, saw 5\n",
            "Skipping line 495009: expected 2 fields, saw 5\n",
            "Skipping line 501954: expected 2 fields, saw 5\n",
            "Skipping line 508035: expected 2 fields, saw 5\n",
            "Skipping line 508828: expected 2 fields, saw 5\n",
            "Skipping line 509833: expected 2 fields, saw 5\n",
            "Skipping line 510410: expected 2 fields, saw 5\n",
            "Skipping line 518229: expected 2 fields, saw 5\n",
            "Skipping line 520302: expected 2 fields, saw 5\n",
            "Skipping line 520340: expected 2 fields, saw 5\n",
            "\n",
            "Skipping line 525174: expected 2 fields, saw 5\n",
            "Skipping line 526251: expected 2 fields, saw 5\n",
            "Skipping line 529611: expected 2 fields, saw 5\n",
            "Skipping line 531398: expected 2 fields, saw 5\n",
            "Skipping line 534146: expected 2 fields, saw 5\n",
            "Skipping line 544954: expected 2 fields, saw 5\n",
            "Skipping line 553002: expected 2 fields, saw 5\n",
            "Skipping line 553883: expected 2 fields, saw 5\n",
            "Skipping line 553887: expected 2 fields, saw 5\n",
            "Skipping line 553915: expected 2 fields, saw 5\n",
            "Skipping line 554172: expected 2 fields, saw 5\n",
            "Skipping line 563534: expected 2 fields, saw 5\n",
            "Skipping line 565191: expected 2 fields, saw 5\n",
            "Skipping line 574108: expected 2 fields, saw 5\n",
            "Skipping line 574412: expected 2 fields, saw 5\n",
            "Skipping line 575985: expected 2 fields, saw 5\n",
            "Skipping line 580091: expected 2 fields, saw 5\n",
            "Skipping line 582682: expected 2 fields, saw 5\n",
            "Skipping line 585885: expected 2 fields, saw 5\n",
            "Skipping line 590171: expected 2 fields, saw 5\n",
            "Skipping line 591924: expected 2 fields, saw 5\n",
            "Skipping line 592515: expected 2 fields, saw 5\n",
            "Skipping line 593888: expected 2 fields, saw 5\n",
            "Skipping line 596245: expected 2 fields, saw 5\n",
            "Skipping line 607344: expected 2 fields, saw 5\n",
            "Skipping line 607633: expected 2 fields, saw 5\n",
            "Skipping line 610939: expected 2 fields, saw 5\n",
            "Skipping line 613638: expected 2 fields, saw 5\n",
            "Skipping line 615643: expected 2 fields, saw 5\n",
            "Skipping line 615901: expected 2 fields, saw 5\n",
            "Skipping line 617389: expected 2 fields, saw 5\n",
            "Skipping line 634641: expected 2 fields, saw 5\n",
            "Skipping line 635755: expected 2 fields, saw 5\n",
            "Skipping line 646243: expected 2 fields, saw 5\n",
            "Skipping line 647165: expected 2 fields, saw 5\n",
            "Skipping line 648610: expected 2 fields, saw 5\n",
            "Skipping line 648772: expected 2 fields, saw 5\n",
            "Skipping line 651833: expected 2 fields, saw 5\n",
            "Skipping line 653663: expected 2 fields, saw 5\n",
            "Skipping line 656233: expected 2 fields, saw 5\n",
            "Skipping line 656694: expected 2 fields, saw 5\n",
            "Skipping line 659783: expected 2 fields, saw 5\n",
            "Skipping line 660478: expected 2 fields, saw 5\n",
            "Skipping line 661133: expected 2 fields, saw 5\n",
            "Skipping line 661736: expected 2 fields, saw 5\n",
            "Skipping line 669827: expected 2 fields, saw 5\n",
            "\n"
          ]
        }
      ]
    },
    {
      "cell_type": "code",
      "source": [
        "data.head()"
      ],
      "metadata": {
        "trusted": true,
        "id": "svpYfqv9WSBD",
        "colab": {
          "base_uri": "https://localhost:8080/",
          "height": 206
        },
        "outputId": "00451642-6deb-4584-ca2c-c0a0025ea95d"
      },
      "execution_count": null,
      "outputs": [
        {
          "output_type": "execute_result",
          "data": {
            "text/plain": [
              "      password  strength\n",
              "0     kzde5577         1\n",
              "1     kino3434         1\n",
              "2    visi7k1yr         1\n",
              "3     megzy123         1\n",
              "4  lamborghin1         1"
            ],
            "text/html": [
              "\n",
              "\n",
              "  <div id=\"df-b4063258-0a6a-4054-a966-ed41377ef090\">\n",
              "    <div class=\"colab-df-container\">\n",
              "      <div>\n",
              "<style scoped>\n",
              "    .dataframe tbody tr th:only-of-type {\n",
              "        vertical-align: middle;\n",
              "    }\n",
              "\n",
              "    .dataframe tbody tr th {\n",
              "        vertical-align: top;\n",
              "    }\n",
              "\n",
              "    .dataframe thead th {\n",
              "        text-align: right;\n",
              "    }\n",
              "</style>\n",
              "<table border=\"1\" class=\"dataframe\">\n",
              "  <thead>\n",
              "    <tr style=\"text-align: right;\">\n",
              "      <th></th>\n",
              "      <th>password</th>\n",
              "      <th>strength</th>\n",
              "    </tr>\n",
              "  </thead>\n",
              "  <tbody>\n",
              "    <tr>\n",
              "      <th>0</th>\n",
              "      <td>kzde5577</td>\n",
              "      <td>1</td>\n",
              "    </tr>\n",
              "    <tr>\n",
              "      <th>1</th>\n",
              "      <td>kino3434</td>\n",
              "      <td>1</td>\n",
              "    </tr>\n",
              "    <tr>\n",
              "      <th>2</th>\n",
              "      <td>visi7k1yr</td>\n",
              "      <td>1</td>\n",
              "    </tr>\n",
              "    <tr>\n",
              "      <th>3</th>\n",
              "      <td>megzy123</td>\n",
              "      <td>1</td>\n",
              "    </tr>\n",
              "    <tr>\n",
              "      <th>4</th>\n",
              "      <td>lamborghin1</td>\n",
              "      <td>1</td>\n",
              "    </tr>\n",
              "  </tbody>\n",
              "</table>\n",
              "</div>\n",
              "      <button class=\"colab-df-convert\" onclick=\"convertToInteractive('df-b4063258-0a6a-4054-a966-ed41377ef090')\"\n",
              "              title=\"Convert this dataframe to an interactive table.\"\n",
              "              style=\"display:none;\">\n",
              "\n",
              "  <svg xmlns=\"http://www.w3.org/2000/svg\" height=\"24px\"viewBox=\"0 0 24 24\"\n",
              "       width=\"24px\">\n",
              "    <path d=\"M0 0h24v24H0V0z\" fill=\"none\"/>\n",
              "    <path d=\"M18.56 5.44l.94 2.06.94-2.06 2.06-.94-2.06-.94-.94-2.06-.94 2.06-2.06.94zm-11 1L8.5 8.5l.94-2.06 2.06-.94-2.06-.94L8.5 2.5l-.94 2.06-2.06.94zm10 10l.94 2.06.94-2.06 2.06-.94-2.06-.94-.94-2.06-.94 2.06-2.06.94z\"/><path d=\"M17.41 7.96l-1.37-1.37c-.4-.4-.92-.59-1.43-.59-.52 0-1.04.2-1.43.59L10.3 9.45l-7.72 7.72c-.78.78-.78 2.05 0 2.83L4 21.41c.39.39.9.59 1.41.59.51 0 1.02-.2 1.41-.59l7.78-7.78 2.81-2.81c.8-.78.8-2.07 0-2.86zM5.41 20L4 18.59l7.72-7.72 1.47 1.35L5.41 20z\"/>\n",
              "  </svg>\n",
              "      </button>\n",
              "\n",
              "\n",
              "\n",
              "    <div id=\"df-9cfd6e3b-cd7c-440f-9a2e-af55ca05158e\">\n",
              "      <button class=\"colab-df-quickchart\" onclick=\"quickchart('df-9cfd6e3b-cd7c-440f-9a2e-af55ca05158e')\"\n",
              "              title=\"Suggest charts.\"\n",
              "              style=\"display:none;\">\n",
              "\n",
              "<svg xmlns=\"http://www.w3.org/2000/svg\" height=\"24px\"viewBox=\"0 0 24 24\"\n",
              "     width=\"24px\">\n",
              "    <g>\n",
              "        <path d=\"M19 3H5c-1.1 0-2 .9-2 2v14c0 1.1.9 2 2 2h14c1.1 0 2-.9 2-2V5c0-1.1-.9-2-2-2zM9 17H7v-7h2v7zm4 0h-2V7h2v10zm4 0h-2v-4h2v4z\"/>\n",
              "    </g>\n",
              "</svg>\n",
              "      </button>\n",
              "    </div>\n",
              "\n",
              "<style>\n",
              "  .colab-df-quickchart {\n",
              "    background-color: #E8F0FE;\n",
              "    border: none;\n",
              "    border-radius: 50%;\n",
              "    cursor: pointer;\n",
              "    display: none;\n",
              "    fill: #1967D2;\n",
              "    height: 32px;\n",
              "    padding: 0 0 0 0;\n",
              "    width: 32px;\n",
              "  }\n",
              "\n",
              "  .colab-df-quickchart:hover {\n",
              "    background-color: #E2EBFA;\n",
              "    box-shadow: 0px 1px 2px rgba(60, 64, 67, 0.3), 0px 1px 3px 1px rgba(60, 64, 67, 0.15);\n",
              "    fill: #174EA6;\n",
              "  }\n",
              "\n",
              "  [theme=dark] .colab-df-quickchart {\n",
              "    background-color: #3B4455;\n",
              "    fill: #D2E3FC;\n",
              "  }\n",
              "\n",
              "  [theme=dark] .colab-df-quickchart:hover {\n",
              "    background-color: #434B5C;\n",
              "    box-shadow: 0px 1px 3px 1px rgba(0, 0, 0, 0.15);\n",
              "    filter: drop-shadow(0px 1px 2px rgba(0, 0, 0, 0.3));\n",
              "    fill: #FFFFFF;\n",
              "  }\n",
              "</style>\n",
              "\n",
              "    <script>\n",
              "      async function quickchart(key) {\n",
              "        const containerElement = document.querySelector('#' + key);\n",
              "        const charts = await google.colab.kernel.invokeFunction(\n",
              "            'suggestCharts', [key], {});\n",
              "      }\n",
              "    </script>\n",
              "\n",
              "      <script>\n",
              "\n",
              "function displayQuickchartButton(domScope) {\n",
              "  let quickchartButtonEl =\n",
              "    domScope.querySelector('#df-9cfd6e3b-cd7c-440f-9a2e-af55ca05158e button.colab-df-quickchart');\n",
              "  quickchartButtonEl.style.display =\n",
              "    google.colab.kernel.accessAllowed ? 'block' : 'none';\n",
              "}\n",
              "\n",
              "        displayQuickchartButton(document);\n",
              "      </script>\n",
              "      <style>\n",
              "    .colab-df-container {\n",
              "      display:flex;\n",
              "      flex-wrap:wrap;\n",
              "      gap: 12px;\n",
              "    }\n",
              "\n",
              "    .colab-df-convert {\n",
              "      background-color: #E8F0FE;\n",
              "      border: none;\n",
              "      border-radius: 50%;\n",
              "      cursor: pointer;\n",
              "      display: none;\n",
              "      fill: #1967D2;\n",
              "      height: 32px;\n",
              "      padding: 0 0 0 0;\n",
              "      width: 32px;\n",
              "    }\n",
              "\n",
              "    .colab-df-convert:hover {\n",
              "      background-color: #E2EBFA;\n",
              "      box-shadow: 0px 1px 2px rgba(60, 64, 67, 0.3), 0px 1px 3px 1px rgba(60, 64, 67, 0.15);\n",
              "      fill: #174EA6;\n",
              "    }\n",
              "\n",
              "    [theme=dark] .colab-df-convert {\n",
              "      background-color: #3B4455;\n",
              "      fill: #D2E3FC;\n",
              "    }\n",
              "\n",
              "    [theme=dark] .colab-df-convert:hover {\n",
              "      background-color: #434B5C;\n",
              "      box-shadow: 0px 1px 3px 1px rgba(0, 0, 0, 0.15);\n",
              "      filter: drop-shadow(0px 1px 2px rgba(0, 0, 0, 0.3));\n",
              "      fill: #FFFFFF;\n",
              "    }\n",
              "  </style>\n",
              "\n",
              "      <script>\n",
              "        const buttonEl =\n",
              "          document.querySelector('#df-b4063258-0a6a-4054-a966-ed41377ef090 button.colab-df-convert');\n",
              "        buttonEl.style.display =\n",
              "          google.colab.kernel.accessAllowed ? 'block' : 'none';\n",
              "\n",
              "        async function convertToInteractive(key) {\n",
              "          const element = document.querySelector('#df-b4063258-0a6a-4054-a966-ed41377ef090');\n",
              "          const dataTable =\n",
              "            await google.colab.kernel.invokeFunction('convertToInteractive',\n",
              "                                                     [key], {});\n",
              "          if (!dataTable) return;\n",
              "\n",
              "          const docLinkHtml = 'Like what you see? Visit the ' +\n",
              "            '<a target=\"_blank\" href=https://colab.research.google.com/notebooks/data_table.ipynb>data table notebook</a>'\n",
              "            + ' to learn more about interactive tables.';\n",
              "          element.innerHTML = '';\n",
              "          dataTable['output_type'] = 'display_data';\n",
              "          await google.colab.output.renderOutput(dataTable, element);\n",
              "          const docLink = document.createElement('div');\n",
              "          docLink.innerHTML = docLinkHtml;\n",
              "          element.appendChild(docLink);\n",
              "        }\n",
              "      </script>\n",
              "    </div>\n",
              "  </div>\n"
            ]
          },
          "metadata": {},
          "execution_count": 3
        }
      ]
    },
    {
      "cell_type": "code",
      "source": [
        "data[data['password'].isnull()]"
      ],
      "metadata": {
        "trusted": true,
        "id": "_PABYjnSWSBF",
        "colab": {
          "base_uri": "https://localhost:8080/",
          "height": 81
        },
        "outputId": "41d28d3a-9cf8-4f50-850d-3b020392e425"
      },
      "execution_count": null,
      "outputs": [
        {
          "output_type": "execute_result",
          "data": {
            "text/plain": [
              "       password  strength\n",
              "367579      NaN         0"
            ],
            "text/html": [
              "\n",
              "\n",
              "  <div id=\"df-72fbf0b1-8d0b-4ff3-8d1c-30340e171f93\">\n",
              "    <div class=\"colab-df-container\">\n",
              "      <div>\n",
              "<style scoped>\n",
              "    .dataframe tbody tr th:only-of-type {\n",
              "        vertical-align: middle;\n",
              "    }\n",
              "\n",
              "    .dataframe tbody tr th {\n",
              "        vertical-align: top;\n",
              "    }\n",
              "\n",
              "    .dataframe thead th {\n",
              "        text-align: right;\n",
              "    }\n",
              "</style>\n",
              "<table border=\"1\" class=\"dataframe\">\n",
              "  <thead>\n",
              "    <tr style=\"text-align: right;\">\n",
              "      <th></th>\n",
              "      <th>password</th>\n",
              "      <th>strength</th>\n",
              "    </tr>\n",
              "  </thead>\n",
              "  <tbody>\n",
              "    <tr>\n",
              "      <th>367579</th>\n",
              "      <td>NaN</td>\n",
              "      <td>0</td>\n",
              "    </tr>\n",
              "  </tbody>\n",
              "</table>\n",
              "</div>\n",
              "      <button class=\"colab-df-convert\" onclick=\"convertToInteractive('df-72fbf0b1-8d0b-4ff3-8d1c-30340e171f93')\"\n",
              "              title=\"Convert this dataframe to an interactive table.\"\n",
              "              style=\"display:none;\">\n",
              "\n",
              "  <svg xmlns=\"http://www.w3.org/2000/svg\" height=\"24px\"viewBox=\"0 0 24 24\"\n",
              "       width=\"24px\">\n",
              "    <path d=\"M0 0h24v24H0V0z\" fill=\"none\"/>\n",
              "    <path d=\"M18.56 5.44l.94 2.06.94-2.06 2.06-.94-2.06-.94-.94-2.06-.94 2.06-2.06.94zm-11 1L8.5 8.5l.94-2.06 2.06-.94-2.06-.94L8.5 2.5l-.94 2.06-2.06.94zm10 10l.94 2.06.94-2.06 2.06-.94-2.06-.94-.94-2.06-.94 2.06-2.06.94z\"/><path d=\"M17.41 7.96l-1.37-1.37c-.4-.4-.92-.59-1.43-.59-.52 0-1.04.2-1.43.59L10.3 9.45l-7.72 7.72c-.78.78-.78 2.05 0 2.83L4 21.41c.39.39.9.59 1.41.59.51 0 1.02-.2 1.41-.59l7.78-7.78 2.81-2.81c.8-.78.8-2.07 0-2.86zM5.41 20L4 18.59l7.72-7.72 1.47 1.35L5.41 20z\"/>\n",
              "  </svg>\n",
              "      </button>\n",
              "\n",
              "\n",
              "\n",
              "    <div id=\"df-c818942e-e422-4c25-9cb5-5775e3fbf560\">\n",
              "      <button class=\"colab-df-quickchart\" onclick=\"quickchart('df-c818942e-e422-4c25-9cb5-5775e3fbf560')\"\n",
              "              title=\"Suggest charts.\"\n",
              "              style=\"display:none;\">\n",
              "\n",
              "<svg xmlns=\"http://www.w3.org/2000/svg\" height=\"24px\"viewBox=\"0 0 24 24\"\n",
              "     width=\"24px\">\n",
              "    <g>\n",
              "        <path d=\"M19 3H5c-1.1 0-2 .9-2 2v14c0 1.1.9 2 2 2h14c1.1 0 2-.9 2-2V5c0-1.1-.9-2-2-2zM9 17H7v-7h2v7zm4 0h-2V7h2v10zm4 0h-2v-4h2v4z\"/>\n",
              "    </g>\n",
              "</svg>\n",
              "      </button>\n",
              "    </div>\n",
              "\n",
              "<style>\n",
              "  .colab-df-quickchart {\n",
              "    background-color: #E8F0FE;\n",
              "    border: none;\n",
              "    border-radius: 50%;\n",
              "    cursor: pointer;\n",
              "    display: none;\n",
              "    fill: #1967D2;\n",
              "    height: 32px;\n",
              "    padding: 0 0 0 0;\n",
              "    width: 32px;\n",
              "  }\n",
              "\n",
              "  .colab-df-quickchart:hover {\n",
              "    background-color: #E2EBFA;\n",
              "    box-shadow: 0px 1px 2px rgba(60, 64, 67, 0.3), 0px 1px 3px 1px rgba(60, 64, 67, 0.15);\n",
              "    fill: #174EA6;\n",
              "  }\n",
              "\n",
              "  [theme=dark] .colab-df-quickchart {\n",
              "    background-color: #3B4455;\n",
              "    fill: #D2E3FC;\n",
              "  }\n",
              "\n",
              "  [theme=dark] .colab-df-quickchart:hover {\n",
              "    background-color: #434B5C;\n",
              "    box-shadow: 0px 1px 3px 1px rgba(0, 0, 0, 0.15);\n",
              "    filter: drop-shadow(0px 1px 2px rgba(0, 0, 0, 0.3));\n",
              "    fill: #FFFFFF;\n",
              "  }\n",
              "</style>\n",
              "\n",
              "    <script>\n",
              "      async function quickchart(key) {\n",
              "        const containerElement = document.querySelector('#' + key);\n",
              "        const charts = await google.colab.kernel.invokeFunction(\n",
              "            'suggestCharts', [key], {});\n",
              "      }\n",
              "    </script>\n",
              "\n",
              "      <script>\n",
              "\n",
              "function displayQuickchartButton(domScope) {\n",
              "  let quickchartButtonEl =\n",
              "    domScope.querySelector('#df-c818942e-e422-4c25-9cb5-5775e3fbf560 button.colab-df-quickchart');\n",
              "  quickchartButtonEl.style.display =\n",
              "    google.colab.kernel.accessAllowed ? 'block' : 'none';\n",
              "}\n",
              "\n",
              "        displayQuickchartButton(document);\n",
              "      </script>\n",
              "      <style>\n",
              "    .colab-df-container {\n",
              "      display:flex;\n",
              "      flex-wrap:wrap;\n",
              "      gap: 12px;\n",
              "    }\n",
              "\n",
              "    .colab-df-convert {\n",
              "      background-color: #E8F0FE;\n",
              "      border: none;\n",
              "      border-radius: 50%;\n",
              "      cursor: pointer;\n",
              "      display: none;\n",
              "      fill: #1967D2;\n",
              "      height: 32px;\n",
              "      padding: 0 0 0 0;\n",
              "      width: 32px;\n",
              "    }\n",
              "\n",
              "    .colab-df-convert:hover {\n",
              "      background-color: #E2EBFA;\n",
              "      box-shadow: 0px 1px 2px rgba(60, 64, 67, 0.3), 0px 1px 3px 1px rgba(60, 64, 67, 0.15);\n",
              "      fill: #174EA6;\n",
              "    }\n",
              "\n",
              "    [theme=dark] .colab-df-convert {\n",
              "      background-color: #3B4455;\n",
              "      fill: #D2E3FC;\n",
              "    }\n",
              "\n",
              "    [theme=dark] .colab-df-convert:hover {\n",
              "      background-color: #434B5C;\n",
              "      box-shadow: 0px 1px 3px 1px rgba(0, 0, 0, 0.15);\n",
              "      filter: drop-shadow(0px 1px 2px rgba(0, 0, 0, 0.3));\n",
              "      fill: #FFFFFF;\n",
              "    }\n",
              "  </style>\n",
              "\n",
              "      <script>\n",
              "        const buttonEl =\n",
              "          document.querySelector('#df-72fbf0b1-8d0b-4ff3-8d1c-30340e171f93 button.colab-df-convert');\n",
              "        buttonEl.style.display =\n",
              "          google.colab.kernel.accessAllowed ? 'block' : 'none';\n",
              "\n",
              "        async function convertToInteractive(key) {\n",
              "          const element = document.querySelector('#df-72fbf0b1-8d0b-4ff3-8d1c-30340e171f93');\n",
              "          const dataTable =\n",
              "            await google.colab.kernel.invokeFunction('convertToInteractive',\n",
              "                                                     [key], {});\n",
              "          if (!dataTable) return;\n",
              "\n",
              "          const docLinkHtml = 'Like what you see? Visit the ' +\n",
              "            '<a target=\"_blank\" href=https://colab.research.google.com/notebooks/data_table.ipynb>data table notebook</a>'\n",
              "            + ' to learn more about interactive tables.';\n",
              "          element.innerHTML = '';\n",
              "          dataTable['output_type'] = 'display_data';\n",
              "          await google.colab.output.renderOutput(dataTable, element);\n",
              "          const docLink = document.createElement('div');\n",
              "          docLink.innerHTML = docLinkHtml;\n",
              "          element.appendChild(docLink);\n",
              "        }\n",
              "      </script>\n",
              "    </div>\n",
              "  </div>\n"
            ]
          },
          "metadata": {},
          "execution_count": 4
        }
      ]
    },
    {
      "cell_type": "code",
      "source": [
        "data.dropna(inplace=True)"
      ],
      "metadata": {
        "trusted": true,
        "id": "LRGose-WWSBH"
      },
      "execution_count": null,
      "outputs": []
    },
    {
      "cell_type": "code",
      "source": [
        "from sklearn.utils import shuffle\n",
        "data = shuffle(data)"
      ],
      "metadata": {
        "trusted": true,
        "id": "GMeXhrfYWSBJ"
      },
      "execution_count": null,
      "outputs": []
    },
    {
      "cell_type": "code",
      "source": [
        "data.reset_index(drop=True,inplace=True)"
      ],
      "metadata": {
        "trusted": true,
        "id": "arbZ1QF6WSBM"
      },
      "execution_count": null,
      "outputs": []
    },
    {
      "cell_type": "code",
      "source": [
        "y = data['strength']"
      ],
      "metadata": {
        "trusted": true,
        "id": "z87wBwrZWSBP"
      },
      "execution_count": null,
      "outputs": []
    },
    {
      "cell_type": "code",
      "source": [
        "y.head()"
      ],
      "metadata": {
        "trusted": true,
        "id": "ZI28NEELWSBS",
        "colab": {
          "base_uri": "https://localhost:8080/"
        },
        "outputId": "074ff1dd-9379-495b-c88b-fbc88ed7abcf"
      },
      "execution_count": null,
      "outputs": [
        {
          "output_type": "execute_result",
          "data": {
            "text/plain": [
              "0    1\n",
              "1    1\n",
              "2    1\n",
              "3    1\n",
              "4    1\n",
              "Name: strength, dtype: int64"
            ]
          },
          "metadata": {},
          "execution_count": 9
        }
      ]
    },
    {
      "cell_type": "code",
      "source": [
        "X = data['password']"
      ],
      "metadata": {
        "trusted": true,
        "id": "MNym1eg5WSBU"
      },
      "execution_count": null,
      "outputs": []
    },
    {
      "cell_type": "code",
      "source": [
        "X.head()"
      ],
      "metadata": {
        "trusted": true,
        "id": "0pHSTNZPWSBW",
        "colab": {
          "base_uri": "https://localhost:8080/"
        },
        "outputId": "94da406e-6078-49ef-915e-87b4796ffe1e"
      },
      "execution_count": null,
      "outputs": [
        {
          "output_type": "execute_result",
          "data": {
            "text/plain": [
              "0       vnyrjpt631\n",
              "1         9c0e08ua\n",
              "2    zerobytes1234\n",
              "3        onexop875\n",
              "4         11o7y830\n",
              "Name: password, dtype: object"
            ]
          },
          "metadata": {},
          "execution_count": 11
        }
      ]
    },
    {
      "cell_type": "code",
      "source": [
        "sns.set_style('whitegrid')\n",
        "sns.countplot(x='strength',data=data)"
      ],
      "metadata": {
        "trusted": true,
        "id": "Sbji24RuWSBX",
        "colab": {
          "base_uri": "https://localhost:8080/",
          "height": 466
        },
        "outputId": "e7ef87f6-22a0-4e27-ada3-477d26b2ffca"
      },
      "execution_count": null,
      "outputs": [
        {
          "output_type": "execute_result",
          "data": {
            "text/plain": [
              "<Axes: xlabel='strength', ylabel='count'>"
            ]
          },
          "metadata": {},
          "execution_count": 12
        },
        {
          "output_type": "display_data",
          "data": {
            "text/plain": [
              "<Figure size 640x480 with 1 Axes>"
            ],
            "image/png": "[encoded data removed]"
          },
          "metadata": {}
        }
      ]
    },
    {
      "cell_type": "code",
      "source": [
        "def words_to_char(inputs):\n",
        "    characters=[]\n",
        "    for i in inputs:\n",
        "        characters.append(i)\n",
        "    return characters"
      ],
      "metadata": {
        "trusted": true,
        "id": "52qjVF-MWSBZ"
      },
      "execution_count": null,
      "outputs": []
    },
    {
      "cell_type": "code",
      "source": [
        "from sklearn.feature_extraction.text import TfidfVectorizer\n",
        "vectorizer=TfidfVectorizer(tokenizer=words_to_char)\n",
        "X=vectorizer.fit_transform(X)"
      ],
      "metadata": {
        "trusted": true,
        "id": "CySuSYNAWSBa",
        "colab": {
          "base_uri": "https://localhost:8080/"
        },
        "outputId": "19178e7a-9382-4e7a-85c5-fd997aab08c3"
      },
      "execution_count": null,
      "outputs": [
        {
          "output_type": "stream",
          "name": "stderr",
          "text": [
            "/usr/local/lib/python3.10/dist-packages/sklearn/feature_extraction/text.py:528: UserWarning: The parameter 'token_pattern' will not be used since 'tokenizer' is not None'\n",
            "  warnings.warn(\n"
          ]
        }
      ]
    },
    {
      "cell_type": "code",
      "source": [
        "X.shape"
      ],
      "metadata": {
        "trusted": true,
        "id": "JKp_zUCKWSBb",
        "colab": {
          "base_uri": "https://localhost:8080/"
        },
        "outputId": "24e6ad56-4a82-4a18-edac-a40c1bbe2af2"
      },
      "execution_count": null,
      "outputs": [
        {
          "output_type": "execute_result",
          "data": {
            "text/plain": [
              "(669639, 153)"
            ]
          },
          "metadata": {},
          "execution_count": 15
        }
      ]
    },
    {
      "cell_type": "code",
      "source": [
        "X.todense()"
      ],
      "metadata": {
        "trusted": true,
        "id": "5fr6vQneWSBd",
        "colab": {
          "base_uri": "https://localhost:8080/"
        },
        "outputId": "835199a6-49fb-4253-ed45-3118ab9c35ef"
      },
      "execution_count": null,
      "outputs": [
        {
          "output_type": "execute_result",
          "data": {
            "text/plain": [
              "matrix([[0., 0., 0., ..., 0., 0., 0.],\n",
              "        [0., 0., 0., ..., 0., 0., 0.],\n",
              "        [0., 0., 0., ..., 0., 0., 0.],\n",
              "        ...,\n",
              "        [0., 0., 0., ..., 0., 0., 0.],\n",
              "        [0., 0., 0., ..., 0., 0., 0.],\n",
              "        [0., 0., 0., ..., 0., 0., 0.]])"
            ]
          },
          "metadata": {},
          "execution_count": 16
        }
      ]
    },
    {
      "cell_type": "code",
      "source": [
        "vectorizer.vocabulary_"
      ],
      "metadata": {
        "trusted": true,
        "id": "YXCrJYw9WSBe",
        "colab": {
          "base_uri": "https://localhost:8080/"
        },
        "outputId": "2a043155-4c7c-4c7f-b2bb-a575d25dda0a"
      },
      "execution_count": null,
      "outputs": [
        {
          "output_type": "execute_result",
          "data": {
            "text/plain": [
              "{'v': 77,\n",
              " 'n': 69,\n",
              " 'y': 80,\n",
              " 'r': 73,\n",
              " 'j': 65,\n",
              " 'p': 71,\n",
              " 't': 75,\n",
              " '6': 40,\n",
              " '3': 37,\n",
              " '1': 35,\n",
              " '9': 43,\n",
              " 'c': 58,\n",
              " '0': 34,\n",
              " 'e': 60,\n",
              " '8': 42,\n",
              " 'u': 76,\n",
              " 'a': 56,\n",
              " 'z': 81,\n",
              " 'o': 70,\n",
              " 'b': 57,\n",
              " 's': 74,\n",
              " '2': 36,\n",
              " '4': 38,\n",
              " 'x': 79,\n",
              " '7': 41,\n",
              " '5': 39,\n",
              " 'i': 64,\n",
              " 'm': 68,\n",
              " 'g': 62,\n",
              " 'd': 59,\n",
              " 'w': 78,\n",
              " 'l': 67,\n",
              " 'h': 63,\n",
              " 'q': 72,\n",
              " 'k': 66,\n",
              " '.': 32,\n",
              " 'f': 61,\n",
              " '@': 49,\n",
              " '*': 29,\n",
              " '-': 31,\n",
              " '_': 54,\n",
              " '/': 33,\n",
              " '$': 24,\n",
              " '%': 25,\n",
              " '\\\\': 51,\n",
              " '#': 23,\n",
              " ' ': 20,\n",
              " '!': 21,\n",
              " '&': 26,\n",
              " ';': 44,\n",
              " ']': 52,\n",
              " ')': 28,\n",
              " '=': 46,\n",
              " '<': 45,\n",
              " '~': 85,\n",
              " '?': 48,\n",
              " '^': 53,\n",
              " '[': 50,\n",
              " '+': 30,\n",
              " '|': 83,\n",
              " '(': 27,\n",
              " '>': 47,\n",
              " '`': 55,\n",
              " 'þ': 142,\n",
              " 'ó': 132,\n",
              " 'ñ': 130,\n",
              " 'ä': 119,\n",
              " '±': 99,\n",
              " 'ÿ': 143,\n",
              " '{': 82,\n",
              " 'µ': 103,\n",
              " 'å': 120,\n",
              " '³': 101,\n",
              " 'ç': 122,\n",
              " 'º': 107,\n",
              " '÷': 136,\n",
              " '\\x1c': 17,\n",
              " 'é': 124,\n",
              " 'õ': 134,\n",
              " '\\x06': 4,\n",
              " '}': 84,\n",
              " 'ú': 138,\n",
              " '\\x10': 8,\n",
              " '\\x17': 13,\n",
              " '‡': 148,\n",
              " '\\x7f': 86,\n",
              " '·': 105,\n",
              " 'ò': 131,\n",
              " '°': 98,\n",
              " 'ô': 133,\n",
              " 'û': 139,\n",
              " 'í': 126,\n",
              " '\\x8d': 88,\n",
              " '\\x18': 14,\n",
              " 'ü': 140,\n",
              " '\"': 22,\n",
              " '\\x16': 12,\n",
              " '\\x1e': 19,\n",
              " 'ö': 135,\n",
              " '¡': 90,\n",
              " 'ð': 129,\n",
              " '¾': 111,\n",
              " '²': 100,\n",
              " '\\x19': 15,\n",
              " 'ý': 141,\n",
              " 'æ': 121,\n",
              " '\\x11': 9,\n",
              " '\\x12': 10,\n",
              " '\\x1b': 16,\n",
              " '´': 102,\n",
              " '™': 152,\n",
              " '«': 96,\n",
              " 'â': 117,\n",
              " '\\x04': 2,\n",
              " '\\x0e': 6,\n",
              " 'ß': 114,\n",
              " '½': 110,\n",
              " '¨': 95,\n",
              " '—': 146,\n",
              " '\\x81': 87,\n",
              " '¿': 112,\n",
              " '\\x05': 3,\n",
              " '\\x02': 1,\n",
              " '\\x08': 5,\n",
              " 'ê': 125,\n",
              " 'á': 116,\n",
              " '‚': 147,\n",
              " '\\xa0': 89,\n",
              " '¢': 91,\n",
              " 'ù': 137,\n",
              " '…': 149,\n",
              " '¹': 106,\n",
              " '¶': 104,\n",
              " 'î': 127,\n",
              " 'è': 123,\n",
              " '\\x13': 11,\n",
              " '\\x1d': 18,\n",
              " 'ï': 128,\n",
              " '¦': 93,\n",
              " '\\x0f': 7,\n",
              " 'ã': 118,\n",
              " 'ƒ': 145,\n",
              " '¼': 109,\n",
              " '›': 151,\n",
              " '§': 94,\n",
              " 'à': 115,\n",
              " '¯': 97,\n",
              " '\\x01': 0,\n",
              " '»': 108,\n",
              " '‹': 150,\n",
              " 'œ': 144,\n",
              " '¤': 92,\n",
              " '×': 113}"
            ]
          },
          "metadata": {},
          "execution_count": 17
        }
      ]
    },
    {
      "cell_type": "code",
      "source": [
        "data.iloc[0][0]"
      ],
      "metadata": {
        "trusted": true,
        "id": "NQVi61XpWSBg",
        "colab": {
          "base_uri": "https://localhost:8080/",
          "height": 36
        },
        "outputId": "ebefa670-a8ae-4444-f1af-2f66f9f90501"
      },
      "execution_count": null,
      "outputs": [
        {
          "output_type": "execute_result",
          "data": {
            "text/plain": [
              "'vnyrjpt631'"
            ],
            "application/vnd.google.colaboratory.intrinsic+json": {
              "type": "string"
            }
          },
          "metadata": {},
          "execution_count": 18
        }
      ]
    },
    {
      "cell_type": "code",
      "source": [
        "feature_names = vectorizer.get_feature_names_out()\n",
        "\n",
        "#get tfidf vector for first document\n",
        "first_document_vector=X[0]\n",
        "\n",
        "#print the scores\n",
        "df = pd.DataFrame(first_document_vector.T.todense(), index=feature_names, columns=[\"tfidf\"])\n",
        "df.sort_values(by=[\"tfidf\"],ascending=False)"
      ],
      "metadata": {
        "trusted": true,
        "id": "QSI_iAqTWSBg",
        "colab": {
          "base_uri": "https://localhost:8080/",
          "height": 423
        },
        "outputId": "e983c03a-9322-462d-d897-f6f11aeb7559"
      },
      "execution_count": null,
      "outputs": [
        {
          "output_type": "execute_result",
          "data": {
            "text/plain": [
              "       tfidf\n",
              "v   0.382770\n",
              "j   0.367426\n",
              "p   0.350383\n",
              "6   0.334053\n",
              "y   0.329270\n",
              "..       ...\n",
              "\\   0.000000\n",
              "]   0.000000\n",
              "^   0.000000\n",
              "_   0.000000\n",
              "™   0.000000\n",
              "\n",
              "[153 rows x 1 columns]"
            ],
            "text/html": [
              "\n",
              "\n",
              "  <div id=\"df-83a01a3e-9cfe-430d-a089-4b3458b716e9\">\n",
              "    <div class=\"colab-df-container\">\n",
              "      <div>\n",
              "<style scoped>\n",
              "    .dataframe tbody tr th:only-of-type {\n",
              "        vertical-align: middle;\n",
              "    }\n",
              "\n",
              "    .dataframe tbody tr th {\n",
              "        vertical-align: top;\n",
              "    }\n",
              "\n",
              "    .dataframe thead th {\n",
              "        text-align: right;\n",
              "    }\n",
              "</style>\n",
              "<table border=\"1\" class=\"dataframe\">\n",
              "  <thead>\n",
              "    <tr style=\"text-align: right;\">\n",
              "      <th></th>\n",
              "      <th>tfidf</th>\n",
              "    </tr>\n",
              "  </thead>\n",
              "  <tbody>\n",
              "    <tr>\n",
              "      <th>v</th>\n",
              "      <td>0.382770</td>\n",
              "    </tr>\n",
              "    <tr>\n",
              "      <th>j</th>\n",
              "      <td>0.367426</td>\n",
              "    </tr>\n",
              "    <tr>\n",
              "      <th>p</th>\n",
              "      <td>0.350383</td>\n",
              "    </tr>\n",
              "    <tr>\n",
              "      <th>6</th>\n",
              "      <td>0.334053</td>\n",
              "    </tr>\n",
              "    <tr>\n",
              "      <th>y</th>\n",
              "      <td>0.329270</td>\n",
              "    </tr>\n",
              "    <tr>\n",
              "      <th>...</th>\n",
              "      <td>...</td>\n",
              "    </tr>\n",
              "    <tr>\n",
              "      <th>\\</th>\n",
              "      <td>0.000000</td>\n",
              "    </tr>\n",
              "    <tr>\n",
              "      <th>]</th>\n",
              "      <td>0.000000</td>\n",
              "    </tr>\n",
              "    <tr>\n",
              "      <th>^</th>\n",
              "      <td>0.000000</td>\n",
              "    </tr>\n",
              "    <tr>\n",
              "      <th>_</th>\n",
              "      <td>0.000000</td>\n",
              "    </tr>\n",
              "    <tr>\n",
              "      <th>™</th>\n",
              "      <td>0.000000</td>\n",
              "    </tr>\n",
              "  </tbody>\n",
              "</table>\n",
              "<p>153 rows × 1 columns</p>\n",
              "</div>\n",
              "      <button class=\"colab-df-convert\" onclick=\"convertToInteractive('df-83a01a3e-9cfe-430d-a089-4b3458b716e9')\"\n",
              "              title=\"Convert this dataframe to an interactive table.\"\n",
              "              style=\"display:none;\">\n",
              "\n",
              "  <svg xmlns=\"http://www.w3.org/2000/svg\" height=\"24px\"viewBox=\"0 0 24 24\"\n",
              "       width=\"24px\">\n",
              "    <path d=\"M0 0h24v24H0V0z\" fill=\"none\"/>\n",
              "    <path d=\"M18.56 5.44l.94 2.06.94-2.06 2.06-.94-2.06-.94-.94-2.06-.94 2.06-2.06.94zm-11 1L8.5 8.5l.94-2.06 2.06-.94-2.06-.94L8.5 2.5l-.94 2.06-2.06.94zm10 10l.94 2.06.94-2.06 2.06-.94-2.06-.94-.94-2.06-.94 2.06-2.06.94z\"/><path d=\"M17.41 7.96l-1.37-1.37c-.4-.4-.92-.59-1.43-.59-.52 0-1.04.2-1.43.59L10.3 9.45l-7.72 7.72c-.78.78-.78 2.05 0 2.83L4 21.41c.39.39.9.59 1.41.59.51 0 1.02-.2 1.41-.59l7.78-7.78 2.81-2.81c.8-.78.8-2.07 0-2.86zM5.41 20L4 18.59l7.72-7.72 1.47 1.35L5.41 20z\"/>\n",
              "  </svg>\n",
              "      </button>\n",
              "\n",
              "\n",
              "\n",
              "    <div id=\"df-655f8884-e93e-409f-9bcb-39abe48d41a1\">\n",
              "      <button class=\"colab-df-quickchart\" onclick=\"quickchart('df-655f8884-e93e-409f-9bcb-39abe48d41a1')\"\n",
              "              title=\"Suggest charts.\"\n",
              "              style=\"display:none;\">\n",
              "\n",
              "<svg xmlns=\"http://www.w3.org/2000/svg\" height=\"24px\"viewBox=\"0 0 24 24\"\n",
              "     width=\"24px\">\n",
              "    <g>\n",
              "        <path d=\"M19 3H5c-1.1 0-2 .9-2 2v14c0 1.1.9 2 2 2h14c1.1 0 2-.9 2-2V5c0-1.1-.9-2-2-2zM9 17H7v-7h2v7zm4 0h-2V7h2v10zm4 0h-2v-4h2v4z\"/>\n",
              "    </g>\n",
              "</svg>\n",
              "      </button>\n",
              "    </div>\n",
              "\n",
              "<style>\n",
              "  .colab-df-quickchart {\n",
              "    background-color: #E8F0FE;\n",
              "    border: none;\n",
              "    border-radius: 50%;\n",
              "    cursor: pointer;\n",
              "    display: none;\n",
              "    fill: #1967D2;\n",
              "    height: 32px;\n",
              "    padding: 0 0 0 0;\n",
              "    width: 32px;\n",
              "  }\n",
              "\n",
              "  .colab-df-quickchart:hover {\n",
              "    background-color: #E2EBFA;\n",
              "    box-shadow: 0px 1px 2px rgba(60, 64, 67, 0.3), 0px 1px 3px 1px rgba(60, 64, 67, 0.15);\n",
              "    fill: #174EA6;\n",
              "  }\n",
              "\n",
              "  [theme=dark] .colab-df-quickchart {\n",
              "    background-color: #3B4455;\n",
              "    fill: #D2E3FC;\n",
              "  }\n",
              "\n",
              "  [theme=dark] .colab-df-quickchart:hover {\n",
              "    background-color: #434B5C;\n",
              "    box-shadow: 0px 1px 3px 1px rgba(0, 0, 0, 0.15);\n",
              "    filter: drop-shadow(0px 1px 2px rgba(0, 0, 0, 0.3));\n",
              "    fill: #FFFFFF;\n",
              "  }\n",
              "</style>\n",
              "\n",
              "    <script>\n",
              "      async function quickchart(key) {\n",
              "        const containerElement = document.querySelector('#' + key);\n",
              "        const charts = await google.colab.kernel.invokeFunction(\n",
              "            'suggestCharts', [key], {});\n",
              "      }\n",
              "    </script>\n",
              "\n",
              "      <script>\n",
              "\n",
              "function displayQuickchartButton(domScope) {\n",
              "  let quickchartButtonEl =\n",
              "    domScope.querySelector('#df-655f8884-e93e-409f-9bcb-39abe48d41a1 button.colab-df-quickchart');\n",
              "  quickchartButtonEl.style.display =\n",
              "    google.colab.kernel.accessAllowed ? 'block' : 'none';\n",
              "}\n",
              "\n",
              "        displayQuickchartButton(document);\n",
              "      </script>\n",
              "      <style>\n",
              "    .colab-df-container {\n",
              "      display:flex;\n",
              "      flex-wrap:wrap;\n",
              "      gap: 12px;\n",
              "    }\n",
              "\n",
              "    .colab-df-convert {\n",
              "      background-color: #E8F0FE;\n",
              "      border: none;\n",
              "      border-radius: 50%;\n",
              "      cursor: pointer;\n",
              "      display: none;\n",
              "      fill: #1967D2;\n",
              "      height: 32px;\n",
              "      padding: 0 0 0 0;\n",
              "      width: 32px;\n",
              "    }\n",
              "\n",
              "    .colab-df-convert:hover {\n",
              "      background-color: #E2EBFA;\n",
              "      box-shadow: 0px 1px 2px rgba(60, 64, 67, 0.3), 0px 1px 3px 1px rgba(60, 64, 67, 0.15);\n",
              "      fill: #174EA6;\n",
              "    }\n",
              "\n",
              "    [theme=dark] .colab-df-convert {\n",
              "      background-color: #3B4455;\n",
              "      fill: #D2E3FC;\n",
              "    }\n",
              "\n",
              "    [theme=dark] .colab-df-convert:hover {\n",
              "      background-color: #434B5C;\n",
              "      box-shadow: 0px 1px 3px 1px rgba(0, 0, 0, 0.15);\n",
              "      filter: drop-shadow(0px 1px 2px rgba(0, 0, 0, 0.3));\n",
              "      fill: #FFFFFF;\n",
              "    }\n",
              "  </style>\n",
              "\n",
              "      <script>\n",
              "        const buttonEl =\n",
              "          document.querySelector('#df-83a01a3e-9cfe-430d-a089-4b3458b716e9 button.colab-df-convert');\n",
              "        buttonEl.style.display =\n",
              "          google.colab.kernel.accessAllowed ? 'block' : 'none';\n",
              "\n",
              "        async function convertToInteractive(key) {\n",
              "          const element = document.querySelector('#df-83a01a3e-9cfe-430d-a089-4b3458b716e9');\n",
              "          const dataTable =\n",
              "            await google.colab.kernel.invokeFunction('convertToInteractive',\n",
              "                                                     [key], {});\n",
              "          if (!dataTable) return;\n",
              "\n",
              "          const docLinkHtml = 'Like what you see? Visit the ' +\n",
              "            '<a target=\"_blank\" href=https://colab.research.google.com/notebooks/data_table.ipynb>data table notebook</a>'\n",
              "            + ' to learn more about interactive tables.';\n",
              "          element.innerHTML = '';\n",
              "          dataTable['output_type'] = 'display_data';\n",
              "          await google.colab.output.renderOutput(dataTable, element);\n",
              "          const docLink = document.createElement('div');\n",
              "          docLink.innerHTML = docLinkHtml;\n",
              "          element.appendChild(docLink);\n",
              "        }\n",
              "      </script>\n",
              "    </div>\n",
              "  </div>\n"
            ]
          },
          "metadata": {},
          "execution_count": 19
        }
      ]
    },
    {
      "cell_type": "markdown",
      "source": [],
      "metadata": {
        "id": "UNXJ8CExFf0C"
      }
    },
    {
      "cell_type": "code",
      "source": [
        "## Logistics Regression\n",
        "\n",
        "from sklearn.linear_model import LogisticRegression"
      ],
      "metadata": {
        "trusted": true,
        "id": "7CspIlv7WSBi"
      },
      "execution_count": null,
      "outputs": []
    },
    {
      "cell_type": "code",
      "source": [
        "from sklearn.model_selection import train_test_split"
      ],
      "metadata": {
        "trusted": true,
        "id": "9U2p5WWiWSBk"
      },
      "execution_count": null,
      "outputs": []
    },
    {
      "cell_type": "code",
      "source": [
        "X_train, X_test, y_train, y_test = train_test_split(X, y, test_size=0.20, random_state=42)  #splitting\n"
      ],
      "metadata": {
        "trusted": true,
        "id": "uJ4LngNgWSBk"
      },
      "execution_count": null,
      "outputs": []
    },
    {
      "cell_type": "code",
      "source": [
        "log_class=LogisticRegression(penalty='l2',multi_class='ovr')\n",
        "log_class.fit(X_train,y_train)"
      ],
      "metadata": {
        "trusted": true,
        "id": "MYO1vYLDWSBm",
        "colab": {
          "base_uri": "https://localhost:8080/",
          "height": 213
        },
        "outputId": "1442125e-ec2c-4a7e-8618-949ad357b4b0"
      },
      "execution_count": null,
      "outputs": [
        {
          "output_type": "stream",
          "name": "stderr",
          "text": [
            "/usr/local/lib/python3.10/dist-packages/sklearn/linear_model/_logistic.py:458: ConvergenceWarning: lbfgs failed to converge (status=1):\n",
            "STOP: TOTAL NO. of ITERATIONS REACHED LIMIT.\n",
            "\n",
            "Increase the number of iterations (max_iter) or scale the data as shown in:\n",
            "    https://scikit-learn.org/stable/modules/preprocessing.html\n",
            "Please also refer to the documentation for alternative solver options:\n",
            "    https://scikit-learn.org/stable/modules/linear_model.html#logistic-regression\n",
            "  n_iter_i = _check_optimize_result(\n"
          ]
        },
        {
          "output_type": "execute_result",
          "data": {
            "text/plain": [
              "LogisticRegression(multi_class='ovr')"
            ],
            "text/html": [
              "<style>#sk-container-id-1 {color: black;background-color: white;}#sk-container-id-1 pre{padding: 0;}#sk-container-id-1 div.sk-toggleable {background-color: white;}#sk-container-id-1 label.sk-toggleable__label {cursor: pointer;display: block;width: 100%;margin-bottom: 0;padding: 0.3em;box-sizing: border-box;text-align: center;}#sk-container-id-1 label.sk-toggleable__label-arrow:before {content: \"▸\";float: left;margin-right: 0.25em;color: #696969;}#sk-container-id-1 label.sk-toggleable__label-arrow:hover:before {color: black;}#sk-container-id-1 div.sk-estimator:hover label.sk-toggleable__label-arrow:before {color: black;}#sk-container-id-1 div.sk-toggleable__content {max-height: 0;max-width: 0;overflow: hidden;text-align: left;background-color: #f0f8ff;}#sk-container-id-1 div.sk-toggleable__content pre {margin: 0.2em;color: black;border-radius: 0.25em;background-color: #f0f8ff;}#sk-container-id-1 input.sk-toggleable__control:checked~div.sk-toggleable__content {max-height: 200px;max-width: 100%;overflow: auto;}#sk-container-id-1 input.sk-toggleable__control:checked~label.sk-toggleable__label-arrow:before {content: \"▾\";}#sk-container-id-1 div.sk-estimator input.sk-toggleable__control:checked~label.sk-toggleable__label {background-color: #d4ebff;}#sk-container-id-1 div.sk-label input.sk-toggleable__control:checked~label.sk-toggleable__label {background-color: #d4ebff;}#sk-container-id-1 input.sk-hidden--visually {border: 0;clip: rect(1px 1px 1px 1px);clip: rect(1px, 1px, 1px, 1px);height: 1px;margin: -1px;overflow: hidden;padding: 0;position: absolute;width: 1px;}#sk-container-id-1 div.sk-estimator {font-family: monospace;background-color: #f0f8ff;border: 1px dotted black;border-radius: 0.25em;box-sizing: border-box;margin-bottom: 0.5em;}#sk-container-id-1 div.sk-estimator:hover {background-color: #d4ebff;}#sk-container-id-1 div.sk-parallel-item::after {content: \"\";width: 100%;border-bottom: 1px solid gray;flex-grow: 1;}#sk-container-id-1 div.sk-label:hover label.sk-toggleable__label {background-color: #d4ebff;}#sk-container-id-1 div.sk-serial::before {content: \"\";position: absolute;border-left: 1px solid gray;box-sizing: border-box;top: 0;bottom: 0;left: 50%;z-index: 0;}#sk-container-id-1 div.sk-serial {display: flex;flex-direction: column;align-items: center;background-color: white;padding-right: 0.2em;padding-left: 0.2em;position: relative;}#sk-container-id-1 div.sk-item {position: relative;z-index: 1;}#sk-container-id-1 div.sk-parallel {display: flex;align-items: stretch;justify-content: center;background-color: white;position: relative;}#sk-container-id-1 div.sk-item::before, #sk-container-id-1 div.sk-parallel-item::before {content: \"\";position: absolute;border-left: 1px solid gray;box-sizing: border-box;top: 0;bottom: 0;left: 50%;z-index: -1;}#sk-container-id-1 div.sk-parallel-item {display: flex;flex-direction: column;z-index: 1;position: relative;background-color: white;}#sk-container-id-1 div.sk-parallel-item:first-child::after {align-self: flex-end;width: 50%;}#sk-container-id-1 div.sk-parallel-item:last-child::after {align-self: flex-start;width: 50%;}#sk-container-id-1 div.sk-parallel-item:only-child::after {width: 0;}#sk-container-id-1 div.sk-dashed-wrapped {border: 1px dashed gray;margin: 0 0.4em 0.5em 0.4em;box-sizing: border-box;padding-bottom: 0.4em;background-color: white;}#sk-container-id-1 div.sk-label label {font-family: monospace;font-weight: bold;display: inline-block;line-height: 1.2em;}#sk-container-id-1 div.sk-label-container {text-align: center;}#sk-container-id-1 div.sk-container {/* jupyter's `normalize.less` sets `[hidden] { display: none; }` but bootstrap.min.css set `[hidden] { display: none !important; }` so we also need the `!important` here to be able to override the default hidden behavior on the sphinx rendered scikit-learn.org. See: https://github.com/scikit-learn/scikit-learn/issues/21755 */display: inline-block !important;position: relative;}#sk-container-id-1 div.sk-text-repr-fallback {display: none;}</style><div id=\"sk-container-id-1\" class=\"sk-top-container\"><div class=\"sk-text-repr-fallback\"><pre>LogisticRegression(multi_class=&#x27;ovr&#x27;)</pre><b>In a Jupyter environment, please rerun this cell to show the HTML representation or trust the notebook. <br />On GitHub, the HTML representation is unable to render, please try loading this page with nbviewer.org.</b></div><div class=\"sk-container\" hidden><div class=\"sk-item\"><div class=\"sk-estimator sk-toggleable\"><input class=\"sk-toggleable__control sk-hidden--visually\" id=\"sk-estimator-id-1\" type=\"checkbox\" checked><label for=\"sk-estimator-id-1\" class=\"sk-toggleable__label sk-toggleable__label-arrow\">LogisticRegression</label><div class=\"sk-toggleable__content\"><pre>LogisticRegression(multi_class=&#x27;ovr&#x27;)</pre></div></div></div></div></div>"
            ]
          },
          "metadata": {},
          "execution_count": 23
        }
      ]
    },
    {
      "cell_type": "code",
      "source": [
        "print(log_class.score(X_test,y_test))"
      ],
      "metadata": {
        "trusted": true,
        "id": "JCGI3cFVWSBn",
        "colab": {
          "base_uri": "https://localhost:8080/"
        },
        "outputId": "91bbc26a-379d-483d-887e-5ef8eae4d039"
      },
      "execution_count": null,
      "outputs": [
        {
          "output_type": "stream",
          "name": "stdout",
          "text": [
            "0.8121751986141807\n"
          ]
        }
      ]
    },
    {
      "cell_type": "code",
      "source": [
        "## Multinomial\n",
        "\n",
        "clf = LogisticRegression(random_state=0, multi_class='multinomial', solver='saga')\n",
        "clf.fit(X_train, y_train) #training\n",
        "print(clf.score(X_test, y_test))"
      ],
      "metadata": {
        "trusted": true,
        "id": "12Alt0q2WSBo",
        "colab": {
          "base_uri": "https://localhost:8080/"
        },
        "outputId": "229aad31-05ec-4304-a033-4f8529974b2f"
      },
      "execution_count": null,
      "outputs": [
        {
          "output_type": "stream",
          "name": "stdout",
          "text": [
            "0.8192984290066304\n"
          ]
        }
      ]
    },
    {
      "cell_type": "code",
      "source": [
        "X_predict=np.array([\"2DFSabc#d$$$$\"])\n",
        "X_predict=vectorizer.transform(X_predict)\n",
        "y_pred=log_class.predict(X_predict)\n",
        "print(y_pred)"
      ],
      "metadata": {
        "trusted": true,
        "id": "152oiXSWWSBp",
        "colab": {
          "base_uri": "https://localhost:8080/"
        },
        "outputId": "0aa64bd3-9403-4b53-9f11-c60fb847b1dc"
      },
      "execution_count": null,
      "outputs": [
        {
          "output_type": "stream",
          "name": "stdout",
          "text": [
            "[1]\n"
          ]
        }
      ]
    },
    {
      "cell_type": "code",
      "source": [
        "from sklearn.linear_model import LinearRegression"
      ],
      "metadata": {
        "trusted": true,
        "id": "vpCxgwmNWSBp"
      },
      "execution_count": null,
      "outputs": []
    },
    {
      "cell_type": "code",
      "source": [
        "lin_class = LinearRegression()"
      ],
      "metadata": {
        "id": "RtIS3ACKzsk_"
      },
      "execution_count": null,
      "outputs": []
    },
    {
      "cell_type": "code",
      "source": [
        "lin_class.fit(X_train, y_train)\n",
        "print(lin_class.score(X_test,y_test))"
      ],
      "metadata": {
        "colab": {
          "base_uri": "https://localhost:8080/"
        },
        "id": "P3xTfvOd1s94",
        "outputId": "50bb311b-8343-406b-853f-00c198d2f860"
      },
      "execution_count": null,
      "outputs": [
        {
          "output_type": "stream",
          "name": "stdout",
          "text": [
            "0.43358610232055605\n"
          ]
        }
      ]
    },
    {
      "cell_type": "code",
      "source": [
        "from sklearn.tree import DecisionTreeClassifier\n"
      ],
      "metadata": {
        "id": "tqg3uhAUGn5q"
      },
      "execution_count": null,
      "outputs": []
    },
    {
      "cell_type": "code",
      "source": [
        "DT = DecisionTreeClassifier(max_features =50)\n",
        "DT.fit(X_train, y_train)\n",
        "print(DT.score(X_test,y_test))"
      ],
      "metadata": {
        "colab": {
          "base_uri": "https://localhost:8080/"
        },
        "id": "hewxbP6oGn8D",
        "outputId": "0d8cd42a-fa73-4b4d-fcc7-8f159fc88d5d"
      },
      "execution_count": null,
      "outputs": [
        {
          "output_type": "stream",
          "name": "stdout",
          "text": [
            "0.9192625888537125\n"
          ]
        }
      ]
    },
    {
      "cell_type": "code",
      "source": [
        "from sklearn.ensemble import RandomForestClassifier"
      ],
      "metadata": {
        "id": "5x1-xfYa2ARg"
      },
      "execution_count": null,
      "outputs": []
    },
    {
      "cell_type": "code",
      "source": [
        "RFC = RandomForestClassifier()\n",
        "\n"
      ],
      "metadata": {
        "id": "bCIXD-Fa2Orb"
      },
      "execution_count": null,
      "outputs": []
    },
    {
      "cell_type": "code",
      "source": [
        "RFC.fit(X_train, y_train)\n",
        "print(RFC.score(X_test,y_test))"
      ],
      "metadata": {
        "id": "jo482nzh2gUq",
        "colab": {
          "base_uri": "https://localhost:8080/"
        },
        "outputId": "dd655053-bdd4-4b75-80ea-c76408c9e5b5"
      },
      "execution_count": null,
      "outputs": [
        {
          "output_type": "stream",
          "name": "stdout",
          "text": [
            "0.955498476793501\n"
          ]
        }
      ]
    },
    {
      "cell_type": "code",
      "source": [],
      "metadata": {
        "id": "bBNdLYh73VW7"
      },
      "execution_count": null,
      "outputs": []
    },
    {
      "cell_type": "markdown",
      "source": [
        "We have used Logistic Regression, Decision Tree and Random forest methods for our prediction of password strength.We got the highest result in Random forest but it is very expensive in time."
      ],
      "metadata": {
        "id": "2JBopH33GLmm"
      }
    },
    {
      "cell_type": "code",
      "source": [],
      "metadata": {
        "id": "FIkzdoT2Gk2K"
      },
      "execution_count": null,
      "outputs": []
    }
  ]
}